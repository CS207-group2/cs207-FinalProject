{
 "cells": [
  {
   "cell_type": "code",
   "execution_count": 1,
   "metadata": {},
   "outputs": [
    {
     "name": "stdout",
     "output_type": "stream",
     "text": [
      "Actual Values:\n",
      "======\n",
      "[35.74862999 41.05973634 96.79065865]\n",
      "Computed Values:\n",
      "======\n",
      "[35.43642643 40.661732   95.6785281 ]\n",
      "0.999876769529266\n",
      "Computed Values:\n",
      "======\n",
      "[-0.81266023 -0.61424104  1.75035556]\n",
      "0.89\n"
     ]
    }
   ],
   "source": [
    "from pyautodiff.optimizer import Optimizer\n",
    "import pyautodiff.admath as admath\n",
    "import numpy as np\n",
    "from sklearn.datasets import make_regression, make_classification\n",
    "\n",
    "\n",
    "# Creates a regression problem with 3 features\n",
    "X,y,coef = make_regression(n_features=3,n_informative=3,coef=True)\n",
    "\n",
    "# User defined loss function\n",
    "def user_mse(y,y_preds):\n",
    "    return (y-y_preds)**2\n",
    "\n",
    "\n",
    "opt = Optimizer(loss=user_mse,optimizer='sgd',regularizer='ridge',lam=0.01)\n",
    "opt.fit(X,y,iters=2000)\n",
    "\n",
    "print('Actual Values:')\n",
    "print('======')\n",
    "print(coef)\n",
    "\n",
    "\n",
    "print('Computed Values:')\n",
    "print('======')\n",
    "print(opt.coefs)\n",
    "print(opt.score(X,y))\n",
    "\n",
    "\n",
    "# Creates a classification problem with 3 features\n",
    "X2,y2 = make_classification(n_features=3,n_informative=3,n_redundant=0)\n",
    "\n",
    "def user_cross_entropy(y,y_preds):\n",
    "    if y == 1:\n",
    "        return -admath.log(y_preds)\n",
    "    else:\n",
    "        return -admath.log(1-y_preds)\n",
    "\n",
    "\n",
    "opt = Optimizer(loss=user_cross_entropy,optimizer='sgd',regularizer='ridge',lam=0.01,problem_type='classification')\n",
    "opt.fit(X2,y2,iters=2500)\n",
    "y_preds = opt.predict(X2)\n",
    "\n",
    "print('Computed Values:')\n",
    "print('======')\n",
    "print(opt.coefs)\n",
    "print(opt.score(X2,y2))\n"
   ]
  },
  {
   "cell_type": "code",
   "execution_count": 2,
   "metadata": {},
   "outputs": [],
   "source": [
    "from pyautodiff.optimizer import Optimizer\n",
    "import pyautodiff.admath as admath\n",
    "import numpy as np\n",
    "from sklearn.datasets import make_regression, make_classification"
   ]
  },
  {
   "cell_type": "code",
   "execution_count": 3,
   "metadata": {},
   "outputs": [],
   "source": [
    "# Creates a regression problem with 3 features\n",
    "X,y,coef = make_regression(n_features=3,n_informative=3,coef=True)\n",
    "\n",
    "# User defined loss function\n",
    "def user_mse(y,y_preds):\n",
    "    return (y-y_preds)**2\n",
    "\n",
    "\n",
    "opt = Optimizer(loss=user_mse,optimizer='sgd',regularizer='ridge',lam=0.01)\n",
    "opt.fit(X,y,iters=2000)"
   ]
  },
  {
   "cell_type": "code",
   "execution_count": 4,
   "metadata": {},
   "outputs": [
    {
     "name": "stdout",
     "output_type": "stream",
     "text": [
      "Actual Values:\n",
      "======\n",
      "[30.07204601 43.41353    42.64089004]\n"
     ]
    }
   ],
   "source": [
    "print('Actual Values:')\n",
    "print('======')\n",
    "print(coef)"
   ]
  },
  {
   "cell_type": "code",
   "execution_count": 5,
   "metadata": {},
   "outputs": [
    {
     "name": "stdout",
     "output_type": "stream",
     "text": [
      "Computed Values:\n",
      "======\n",
      "[29.66170534 42.79584969 42.24348357]\n",
      "0.9998503971809333\n"
     ]
    }
   ],
   "source": [
    "print('Computed Values:')\n",
    "print('======')\n",
    "print(opt.coefs)\n",
    "print(opt.score(X,y))"
   ]
  }
 ],
 "metadata": {
  "kernelspec": {
   "display_name": "Python 3",
   "language": "python",
   "name": "python3"
  },
  "language_info": {
   "codemirror_mode": {
    "name": "ipython",
    "version": 3
   },
   "file_extension": ".py",
   "mimetype": "text/x-python",
   "name": "python",
   "nbconvert_exporter": "python",
   "pygments_lexer": "ipython3",
   "version": "3.7.0"
  }
 },
 "nbformat": 4,
 "nbformat_minor": 2
}
