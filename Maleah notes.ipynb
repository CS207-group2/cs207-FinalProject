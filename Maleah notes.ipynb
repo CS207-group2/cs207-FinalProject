{
 "cells": [
  {
   "cell_type": "code",
   "execution_count": 15,
   "metadata": {},
   "outputs": [
    {
     "name": "stdout",
     "output_type": "stream",
     "text": [
      "<statsmodels.regression.linear_model.RegressionResultsWrapper object at 0x1a1bf69be0>\n"
     ]
    }
   ],
   "source": [
    "import pandas as pd\n",
    "import statsmodels.formula.api as sm\n",
    "df = pd.DataFrame({\"A\": [10,20,30,40,50], \"B\": [20, 30, 10, 40, 50], \"C\": [32, 234, 23, 23, 42523]})\n",
    "model = sm.ols(formula=\"A ~ B + C\", data=df).fit()\n",
    "print(result)"
   ]
  },
  {
   "cell_type": "code",
   "execution_count": 11,
   "metadata": {},
   "outputs": [
    {
     "name": "stdout",
     "output_type": "stream",
     "text": [
      "        id  papres16  paeduc  maeduc  educ  year  black  male  parfor  hsgrad  \\\n",
      "0        1        50      16      12    16    86      0     0       0       1   \n",
      "1        2        42      16      16    16    86      0     0       0       1   \n",
      "2        3        47      12      12    18    86      0     1       0       1   \n",
      "3        4        78      19      16    17    86      0     0       0       1   \n",
      "4        5        41      16      12    18    86      0     1       0       1   \n",
      "5        6        41       0       0     0    86      0     0       1       0   \n",
      "6        7        48      12      12    12    86      1     0       1       1   \n",
      "7        8        50      14      13    14    86      1     0       1       1   \n",
      "8        9        50       6       6     7    86      0     0       1       0   \n",
      "9       10        49      12      12    12    86      1     0       1       1   \n",
      "10      11        56      16      13    16    86      0     0       1       1   \n",
      "11      12        17      12      12    12    86      0     0       0       1   \n",
      "12      13        48       6       8    12    86      0     1       0       1   \n",
      "13      14        16       8       8    12    86      0     1       1       1   \n",
      "14      15        31      14      11    16    86      0     0       0       1   \n",
      "15      16        50      12      12    12    86      0     0       1       1   \n",
      "16      17        36      12      16    14    86      1     0       0       1   \n",
      "17      18        37       4       4     8    86      0     0       1       0   \n",
      "18      19        32      10       8    18    86      0     0       0       1   \n",
      "19      20        32      12      12    18    86      0     1       0       1   \n",
      "20      21        50      12      12    14    86      0     1       0       1   \n",
      "21      22        45      12      12    12    86      0     0       1       1   \n",
      "22      23        51      14      12    16    86      0     0       0       1   \n",
      "23      24        20      12       8    12    86      0     1       1       1   \n",
      "24      25        48      14      12    14    86      0     0       0       1   \n",
      "25      26        44       6       6    10    86      0     0       0       0   \n",
      "26      27        34       8      12    16    86      0     0       0       1   \n",
      "27      28        47       8      12    11    86      0     1       0       0   \n",
      "28      29        71      14      12    15    86      0     1       0       1   \n",
      "29      30        40      12      12    10    86      0     1       0       0   \n",
      "...    ...       ...     ...     ...   ...   ...    ...   ...     ...     ...   \n",
      "4522  4523        48      16      12    13    90      0     0       0       1   \n",
      "4523  4524        41       8       8    12    90      0     0       0       1   \n",
      "4524  4525        32       4      12    12    90      0     0       0       1   \n",
      "4525  4526        48      12      12    12    90      0     1       0       1   \n",
      "4526  4527        34      16      15    17    90      0     0       0       1   \n",
      "4527  4528        39      12      12    12    90      0     0       0       1   \n",
      "4528  4529        45      12       9    12    90      0     1       0       1   \n",
      "4529  4530        34      10      16    20    90      0     1       0       1   \n",
      "4530  4531        69      16      12    16    90      0     1       0       1   \n",
      "4531  4532        35      12      14    12    90      0     1       0       1   \n",
      "4532  4533        41      14      16    12    90      0     0       0       1   \n",
      "4533  4534        45      10      10    13    90      0     0       0       1   \n",
      "4534  4535        41       8      12    12    90      0     1       0       1   \n",
      "4535  4536        37      12      12    14    90      0     0       0       1   \n",
      "4536  4537        41      12      13    18    90      0     0       0       1   \n",
      "4537  4538        61      19      20    20    90      0     0       0       1   \n",
      "4538  4539        50      16      16    17    90      0     0       0       1   \n",
      "4539  4540        41      12      12    11    90      0     0       0       0   \n",
      "4540  4541        41       8       8    10    90      0     1       0       0   \n",
      "4541  4542        31      12      12    18    90      0     0       0       1   \n",
      "4542  4543        41       5       8    13    90      0     1       0       1   \n",
      "4543  4544        50       2       5     9    90      0     1       0       0   \n",
      "4544  4545        41       8       8    16    90      0     0       0       1   \n",
      "4545  4546        40      13      12    14    90      0     1       0       1   \n",
      "4546  4547        32      12       8    12    90      0     1       0       1   \n",
      "4547  4548        50      12      11    14    90      0     1       0       1   \n",
      "4548  4549        32      14      10    12    90      0     1       0       1   \n",
      "4549  4550        26      10      10    12    90      0     1       0       1   \n",
      "4550  4551        40       6      12    12    90      0     0       0       1   \n",
      "4551  4552        28       3       3     6    90      0     1       0       0   \n",
      "\n",
      "      colgrad    edcat  \n",
      "0           1  ColGrad  \n",
      "1           1  ColGrad  \n",
      "2           1  GradSch  \n",
      "3           1  GradSch  \n",
      "4           1  GradSch  \n",
      "5           0      <HS  \n",
      "6           0   HSgrad  \n",
      "7           0  SomeCol  \n",
      "8           0      <HS  \n",
      "9           0   HSgrad  \n",
      "10          1  ColGrad  \n",
      "11          0   HSgrad  \n",
      "12          0   HSgrad  \n",
      "13          0   HSgrad  \n",
      "14          1  ColGrad  \n",
      "15          0   HSgrad  \n",
      "16          0  SomeCol  \n",
      "17          0      <HS  \n",
      "18          1  GradSch  \n",
      "19          1  GradSch  \n",
      "20          0  SomeCol  \n",
      "21          0   HSgrad  \n",
      "22          1  ColGrad  \n",
      "23          0   HSgrad  \n",
      "24          0  SomeCol  \n",
      "25          0      <HS  \n",
      "26          1  ColGrad  \n",
      "27          0      <HS  \n",
      "28          0  SomeCol  \n",
      "29          0      <HS  \n",
      "...       ...      ...  \n",
      "4522        0  SomeCol  \n",
      "4523        0   HSgrad  \n",
      "4524        0   HSgrad  \n",
      "4525        0   HSgrad  \n",
      "4526        1  GradSch  \n",
      "4527        0   HSgrad  \n",
      "4528        0   HSgrad  \n",
      "4529        1  GradSch  \n",
      "4530        1  ColGrad  \n",
      "4531        0   HSgrad  \n",
      "4532        0   HSgrad  \n",
      "4533        0  SomeCol  \n",
      "4534        0   HSgrad  \n",
      "4535        0  SomeCol  \n",
      "4536        1  GradSch  \n",
      "4537        1  GradSch  \n",
      "4538        1  GradSch  \n",
      "4539        0      <HS  \n",
      "4540        0      <HS  \n",
      "4541        1  GradSch  \n",
      "4542        0  SomeCol  \n",
      "4543        0      <HS  \n",
      "4544        1  ColGrad  \n",
      "4545        0  SomeCol  \n",
      "4546        0   HSgrad  \n",
      "4547        0  SomeCol  \n",
      "4548        0   HSgrad  \n",
      "4549        0   HSgrad  \n",
      "4550        0   HSgrad  \n",
      "4551        0      <HS  \n",
      "\n",
      "[4552 rows x 12 columns]\n"
     ]
    }
   ],
   "source": [
    "socio_data = pd.read_stata('gsswide.dta')\n",
    "socio_df = pd.DataFrame(data=socio_data)\n",
    "print(socio_data)"
   ]
  },
  {
   "cell_type": "code",
   "execution_count": null,
   "metadata": {
    "collapsed": true
   },
   "outputs": [],
   "source": [
    "= sm.ols(formula=\"A ~ B + C\", data=df).fit()"
   ]
  },
  {
   "cell_type": "code",
   "execution_count": 14,
   "metadata": {},
   "outputs": [
    {
     "ename": "TypeError",
     "evalue": "float() argument must be a string or a number, not 'RegressionResultsWrapper'",
     "output_type": "error",
     "traceback": [
      "\u001b[0;31m---------------------------------------------------------------------------\u001b[0m",
      "\u001b[0;31mTypeError\u001b[0m                                 Traceback (most recent call last)",
      "\u001b[0;32m<ipython-input-14-f5ac812bab54>\u001b[0m in \u001b[0;36m<module>\u001b[0;34m()\u001b[0m\n\u001b[1;32m      1\u001b[0m \u001b[0;32mimport\u001b[0m \u001b[0mmatplotlib\u001b[0m\u001b[0;34m.\u001b[0m\u001b[0mpyplot\u001b[0m \u001b[0;32mas\u001b[0m \u001b[0mplt\u001b[0m\u001b[0;34m\u001b[0m\u001b[0m\n\u001b[0;32m----> 2\u001b[0;31m \u001b[0mplt\u001b[0m\u001b[0;34m.\u001b[0m\u001b[0mplot\u001b[0m\u001b[0;34m(\u001b[0m\u001b[0mresult\u001b[0m\u001b[0;34m)\u001b[0m\u001b[0;34m\u001b[0m\u001b[0m\n\u001b[0m",
      "\u001b[0;32m~/anaconda3/lib/python3.6/site-packages/matplotlib/pyplot.py\u001b[0m in \u001b[0;36mplot\u001b[0;34m(*args, **kwargs)\u001b[0m\n\u001b[1;32m   3238\u001b[0m                       mplDeprecation)\n\u001b[1;32m   3239\u001b[0m     \u001b[0;32mtry\u001b[0m\u001b[0;34m:\u001b[0m\u001b[0;34m\u001b[0m\u001b[0m\n\u001b[0;32m-> 3240\u001b[0;31m         \u001b[0mret\u001b[0m \u001b[0;34m=\u001b[0m \u001b[0max\u001b[0m\u001b[0;34m.\u001b[0m\u001b[0mplot\u001b[0m\u001b[0;34m(\u001b[0m\u001b[0;34m*\u001b[0m\u001b[0margs\u001b[0m\u001b[0;34m,\u001b[0m \u001b[0;34m**\u001b[0m\u001b[0mkwargs\u001b[0m\u001b[0;34m)\u001b[0m\u001b[0;34m\u001b[0m\u001b[0m\n\u001b[0m\u001b[1;32m   3241\u001b[0m     \u001b[0;32mfinally\u001b[0m\u001b[0;34m:\u001b[0m\u001b[0;34m\u001b[0m\u001b[0m\n\u001b[1;32m   3242\u001b[0m         \u001b[0max\u001b[0m\u001b[0;34m.\u001b[0m\u001b[0m_hold\u001b[0m \u001b[0;34m=\u001b[0m \u001b[0mwashold\u001b[0m\u001b[0;34m\u001b[0m\u001b[0m\n",
      "\u001b[0;32m~/anaconda3/lib/python3.6/site-packages/matplotlib/__init__.py\u001b[0m in \u001b[0;36minner\u001b[0;34m(ax, *args, **kwargs)\u001b[0m\n\u001b[1;32m   1708\u001b[0m                     warnings.warn(msg % (label_namer, func.__name__),\n\u001b[1;32m   1709\u001b[0m                                   RuntimeWarning, stacklevel=2)\n\u001b[0;32m-> 1710\u001b[0;31m             \u001b[0;32mreturn\u001b[0m \u001b[0mfunc\u001b[0m\u001b[0;34m(\u001b[0m\u001b[0max\u001b[0m\u001b[0;34m,\u001b[0m \u001b[0;34m*\u001b[0m\u001b[0margs\u001b[0m\u001b[0;34m,\u001b[0m \u001b[0;34m**\u001b[0m\u001b[0mkwargs\u001b[0m\u001b[0;34m)\u001b[0m\u001b[0;34m\u001b[0m\u001b[0m\n\u001b[0m\u001b[1;32m   1711\u001b[0m         \u001b[0mpre_doc\u001b[0m \u001b[0;34m=\u001b[0m \u001b[0minner\u001b[0m\u001b[0;34m.\u001b[0m\u001b[0m__doc__\u001b[0m\u001b[0;34m\u001b[0m\u001b[0m\n\u001b[1;32m   1712\u001b[0m         \u001b[0;32mif\u001b[0m \u001b[0mpre_doc\u001b[0m \u001b[0;32mis\u001b[0m \u001b[0;32mNone\u001b[0m\u001b[0;34m:\u001b[0m\u001b[0;34m\u001b[0m\u001b[0m\n",
      "\u001b[0;32m~/anaconda3/lib/python3.6/site-packages/matplotlib/axes/_axes.py\u001b[0m in \u001b[0;36mplot\u001b[0;34m(self, *args, **kwargs)\u001b[0m\n\u001b[1;32m   1436\u001b[0m \u001b[0;34m\u001b[0m\u001b[0m\n\u001b[1;32m   1437\u001b[0m         \u001b[0;32mfor\u001b[0m \u001b[0mline\u001b[0m \u001b[0;32min\u001b[0m \u001b[0mself\u001b[0m\u001b[0;34m.\u001b[0m\u001b[0m_get_lines\u001b[0m\u001b[0;34m(\u001b[0m\u001b[0;34m*\u001b[0m\u001b[0margs\u001b[0m\u001b[0;34m,\u001b[0m \u001b[0;34m**\u001b[0m\u001b[0mkwargs\u001b[0m\u001b[0;34m)\u001b[0m\u001b[0;34m:\u001b[0m\u001b[0;34m\u001b[0m\u001b[0m\n\u001b[0;32m-> 1438\u001b[0;31m             \u001b[0mself\u001b[0m\u001b[0;34m.\u001b[0m\u001b[0madd_line\u001b[0m\u001b[0;34m(\u001b[0m\u001b[0mline\u001b[0m\u001b[0;34m)\u001b[0m\u001b[0;34m\u001b[0m\u001b[0m\n\u001b[0m\u001b[1;32m   1439\u001b[0m             \u001b[0mlines\u001b[0m\u001b[0;34m.\u001b[0m\u001b[0mappend\u001b[0m\u001b[0;34m(\u001b[0m\u001b[0mline\u001b[0m\u001b[0;34m)\u001b[0m\u001b[0;34m\u001b[0m\u001b[0m\n\u001b[1;32m   1440\u001b[0m \u001b[0;34m\u001b[0m\u001b[0m\n",
      "\u001b[0;32m~/anaconda3/lib/python3.6/site-packages/matplotlib/axes/_base.py\u001b[0m in \u001b[0;36madd_line\u001b[0;34m(self, line)\u001b[0m\n\u001b[1;32m   1757\u001b[0m             \u001b[0mline\u001b[0m\u001b[0;34m.\u001b[0m\u001b[0mset_clip_path\u001b[0m\u001b[0;34m(\u001b[0m\u001b[0mself\u001b[0m\u001b[0;34m.\u001b[0m\u001b[0mpatch\u001b[0m\u001b[0;34m)\u001b[0m\u001b[0;34m\u001b[0m\u001b[0m\n\u001b[1;32m   1758\u001b[0m \u001b[0;34m\u001b[0m\u001b[0m\n\u001b[0;32m-> 1759\u001b[0;31m         \u001b[0mself\u001b[0m\u001b[0;34m.\u001b[0m\u001b[0m_update_line_limits\u001b[0m\u001b[0;34m(\u001b[0m\u001b[0mline\u001b[0m\u001b[0;34m)\u001b[0m\u001b[0;34m\u001b[0m\u001b[0m\n\u001b[0m\u001b[1;32m   1760\u001b[0m         \u001b[0;32mif\u001b[0m \u001b[0;32mnot\u001b[0m \u001b[0mline\u001b[0m\u001b[0;34m.\u001b[0m\u001b[0mget_label\u001b[0m\u001b[0;34m(\u001b[0m\u001b[0;34m)\u001b[0m\u001b[0;34m:\u001b[0m\u001b[0;34m\u001b[0m\u001b[0m\n\u001b[1;32m   1761\u001b[0m             \u001b[0mline\u001b[0m\u001b[0;34m.\u001b[0m\u001b[0mset_label\u001b[0m\u001b[0;34m(\u001b[0m\u001b[0;34m'_line%d'\u001b[0m \u001b[0;34m%\u001b[0m \u001b[0mlen\u001b[0m\u001b[0;34m(\u001b[0m\u001b[0mself\u001b[0m\u001b[0;34m.\u001b[0m\u001b[0mlines\u001b[0m\u001b[0;34m)\u001b[0m\u001b[0;34m)\u001b[0m\u001b[0;34m\u001b[0m\u001b[0m\n",
      "\u001b[0;32m~/anaconda3/lib/python3.6/site-packages/matplotlib/axes/_base.py\u001b[0m in \u001b[0;36m_update_line_limits\u001b[0;34m(self, line)\u001b[0m\n\u001b[1;32m   1779\u001b[0m         \u001b[0mFigures\u001b[0m \u001b[0mout\u001b[0m \u001b[0mthe\u001b[0m \u001b[0mdata\u001b[0m \u001b[0mlimit\u001b[0m \u001b[0mof\u001b[0m \u001b[0mthe\u001b[0m \u001b[0mgiven\u001b[0m \u001b[0mline\u001b[0m\u001b[0;34m,\u001b[0m \u001b[0mupdating\u001b[0m \u001b[0mself\u001b[0m\u001b[0;34m.\u001b[0m\u001b[0mdataLim\u001b[0m\u001b[0;34m.\u001b[0m\u001b[0;34m\u001b[0m\u001b[0m\n\u001b[1;32m   1780\u001b[0m         \"\"\"\n\u001b[0;32m-> 1781\u001b[0;31m         \u001b[0mpath\u001b[0m \u001b[0;34m=\u001b[0m \u001b[0mline\u001b[0m\u001b[0;34m.\u001b[0m\u001b[0mget_path\u001b[0m\u001b[0;34m(\u001b[0m\u001b[0;34m)\u001b[0m\u001b[0;34m\u001b[0m\u001b[0m\n\u001b[0m\u001b[1;32m   1782\u001b[0m         \u001b[0;32mif\u001b[0m \u001b[0mpath\u001b[0m\u001b[0;34m.\u001b[0m\u001b[0mvertices\u001b[0m\u001b[0;34m.\u001b[0m\u001b[0msize\u001b[0m \u001b[0;34m==\u001b[0m \u001b[0;36m0\u001b[0m\u001b[0;34m:\u001b[0m\u001b[0;34m\u001b[0m\u001b[0m\n\u001b[1;32m   1783\u001b[0m             \u001b[0;32mreturn\u001b[0m\u001b[0;34m\u001b[0m\u001b[0m\n",
      "\u001b[0;32m~/anaconda3/lib/python3.6/site-packages/matplotlib/lines.py\u001b[0m in \u001b[0;36mget_path\u001b[0;34m(self)\u001b[0m\n\u001b[1;32m    949\u001b[0m         \"\"\"\n\u001b[1;32m    950\u001b[0m         \u001b[0;32mif\u001b[0m \u001b[0mself\u001b[0m\u001b[0;34m.\u001b[0m\u001b[0m_invalidy\u001b[0m \u001b[0;32mor\u001b[0m \u001b[0mself\u001b[0m\u001b[0;34m.\u001b[0m\u001b[0m_invalidx\u001b[0m\u001b[0;34m:\u001b[0m\u001b[0;34m\u001b[0m\u001b[0m\n\u001b[0;32m--> 951\u001b[0;31m             \u001b[0mself\u001b[0m\u001b[0;34m.\u001b[0m\u001b[0mrecache\u001b[0m\u001b[0;34m(\u001b[0m\u001b[0;34m)\u001b[0m\u001b[0;34m\u001b[0m\u001b[0m\n\u001b[0m\u001b[1;32m    952\u001b[0m         \u001b[0;32mreturn\u001b[0m \u001b[0mself\u001b[0m\u001b[0;34m.\u001b[0m\u001b[0m_path\u001b[0m\u001b[0;34m\u001b[0m\u001b[0m\n\u001b[1;32m    953\u001b[0m \u001b[0;34m\u001b[0m\u001b[0m\n",
      "\u001b[0;32m~/anaconda3/lib/python3.6/site-packages/matplotlib/lines.py\u001b[0m in \u001b[0;36mrecache\u001b[0;34m(self, always)\u001b[0m\n\u001b[1;32m    655\u001b[0m         \u001b[0;32mif\u001b[0m \u001b[0malways\u001b[0m \u001b[0;32mor\u001b[0m \u001b[0mself\u001b[0m\u001b[0;34m.\u001b[0m\u001b[0m_invalidy\u001b[0m\u001b[0;34m:\u001b[0m\u001b[0;34m\u001b[0m\u001b[0m\n\u001b[1;32m    656\u001b[0m             \u001b[0myconv\u001b[0m \u001b[0;34m=\u001b[0m \u001b[0mself\u001b[0m\u001b[0;34m.\u001b[0m\u001b[0mconvert_yunits\u001b[0m\u001b[0;34m(\u001b[0m\u001b[0mself\u001b[0m\u001b[0;34m.\u001b[0m\u001b[0m_yorig\u001b[0m\u001b[0;34m)\u001b[0m\u001b[0;34m\u001b[0m\u001b[0m\n\u001b[0;32m--> 657\u001b[0;31m             \u001b[0my\u001b[0m \u001b[0;34m=\u001b[0m \u001b[0m_to_unmasked_float_array\u001b[0m\u001b[0;34m(\u001b[0m\u001b[0myconv\u001b[0m\u001b[0;34m)\u001b[0m\u001b[0;34m.\u001b[0m\u001b[0mravel\u001b[0m\u001b[0;34m(\u001b[0m\u001b[0;34m)\u001b[0m\u001b[0;34m\u001b[0m\u001b[0m\n\u001b[0m\u001b[1;32m    658\u001b[0m         \u001b[0;32melse\u001b[0m\u001b[0;34m:\u001b[0m\u001b[0;34m\u001b[0m\u001b[0m\n\u001b[1;32m    659\u001b[0m             \u001b[0my\u001b[0m \u001b[0;34m=\u001b[0m \u001b[0mself\u001b[0m\u001b[0;34m.\u001b[0m\u001b[0m_y\u001b[0m\u001b[0;34m\u001b[0m\u001b[0m\n",
      "\u001b[0;32m~/anaconda3/lib/python3.6/site-packages/matplotlib/cbook/__init__.py\u001b[0m in \u001b[0;36m_to_unmasked_float_array\u001b[0;34m(x)\u001b[0m\n\u001b[1;32m   2006\u001b[0m         \u001b[0;32mreturn\u001b[0m \u001b[0mnp\u001b[0m\u001b[0;34m.\u001b[0m\u001b[0mma\u001b[0m\u001b[0;34m.\u001b[0m\u001b[0masarray\u001b[0m\u001b[0;34m(\u001b[0m\u001b[0mx\u001b[0m\u001b[0;34m,\u001b[0m \u001b[0mfloat\u001b[0m\u001b[0;34m)\u001b[0m\u001b[0;34m.\u001b[0m\u001b[0mfilled\u001b[0m\u001b[0;34m(\u001b[0m\u001b[0mnp\u001b[0m\u001b[0;34m.\u001b[0m\u001b[0mnan\u001b[0m\u001b[0;34m)\u001b[0m\u001b[0;34m\u001b[0m\u001b[0m\n\u001b[1;32m   2007\u001b[0m     \u001b[0;32melse\u001b[0m\u001b[0;34m:\u001b[0m\u001b[0;34m\u001b[0m\u001b[0m\n\u001b[0;32m-> 2008\u001b[0;31m         \u001b[0;32mreturn\u001b[0m \u001b[0mnp\u001b[0m\u001b[0;34m.\u001b[0m\u001b[0masarray\u001b[0m\u001b[0;34m(\u001b[0m\u001b[0mx\u001b[0m\u001b[0;34m,\u001b[0m \u001b[0mfloat\u001b[0m\u001b[0;34m)\u001b[0m\u001b[0;34m\u001b[0m\u001b[0m\n\u001b[0m\u001b[1;32m   2009\u001b[0m \u001b[0;34m\u001b[0m\u001b[0m\n\u001b[1;32m   2010\u001b[0m \u001b[0;34m\u001b[0m\u001b[0m\n",
      "\u001b[0;32m~/anaconda3/lib/python3.6/site-packages/numpy/core/numeric.py\u001b[0m in \u001b[0;36masarray\u001b[0;34m(a, dtype, order)\u001b[0m\n\u001b[1;32m    529\u001b[0m \u001b[0;34m\u001b[0m\u001b[0m\n\u001b[1;32m    530\u001b[0m     \"\"\"\n\u001b[0;32m--> 531\u001b[0;31m     \u001b[0;32mreturn\u001b[0m \u001b[0marray\u001b[0m\u001b[0;34m(\u001b[0m\u001b[0ma\u001b[0m\u001b[0;34m,\u001b[0m \u001b[0mdtype\u001b[0m\u001b[0;34m,\u001b[0m \u001b[0mcopy\u001b[0m\u001b[0;34m=\u001b[0m\u001b[0;32mFalse\u001b[0m\u001b[0;34m,\u001b[0m \u001b[0morder\u001b[0m\u001b[0;34m=\u001b[0m\u001b[0morder\u001b[0m\u001b[0;34m)\u001b[0m\u001b[0;34m\u001b[0m\u001b[0m\n\u001b[0m\u001b[1;32m    532\u001b[0m \u001b[0;34m\u001b[0m\u001b[0m\n\u001b[1;32m    533\u001b[0m \u001b[0;34m\u001b[0m\u001b[0m\n",
      "\u001b[0;31mTypeError\u001b[0m: float() argument must be a string or a number, not 'RegressionResultsWrapper'"
     ]
    }
   ],
   "source": [
    "import matplotlib.pyplot as plt\n",
    "plt.plot(result)"
   ]
  },
  {
   "cell_type": "code",
   "execution_count": 16,
   "metadata": {},
   "outputs": [
    {
     "data": {
      "text/plain": [
       "array(<statsmodels.regression.linear_model.RegressionResultsWrapper object at 0x1a1bf69be0>, dtype=object)"
      ]
     },
     "execution_count": 16,
     "metadata": {},
     "output_type": "execute_result"
    }
   ],
   "source": [
    "import numpy as np\n",
    "np.array(result)"
   ]
  },
  {
   "cell_type": "code",
   "execution_count": 19,
   "metadata": {},
   "outputs": [],
   "source": [
    "numpy_matrix = socio_df.as_matrix()"
   ]
  },
  {
   "cell_type": "code",
   "execution_count": 24,
   "metadata": {},
   "outputs": [
    {
     "data": {
      "text/plain": [
       "array([16, 16, 18, ..., 12, 12, 6], dtype=object)"
      ]
     },
     "execution_count": 24,
     "metadata": {},
     "output_type": "execute_result"
    }
   ],
   "source": [
    "y_educ = numpy_matrix[:,4]\n",
    "y_educ"
   ]
  },
  {
   "cell_type": "code",
   "execution_count": 27,
   "metadata": {},
   "outputs": [],
   "source": [
    "x_papres = numpy_matrix[:, 1] \n",
    "x_paeduc = numpy_matrix[:, 2]\n",
    "x_maeduc = numpy_matrix[:, 3]\n",
    "x_black = numpy_matrix[:, 6]\n",
    "x_male = numpy_matrix[:, 7]"
   ]
  },
  {
   "cell_type": "code",
   "execution_count": 28,
   "metadata": {},
   "outputs": [
    {
     "ename": "ModuleNotFoundError",
     "evalue": "No module named 'ols'",
     "output_type": "error",
     "traceback": [
      "\u001b[0;31m---------------------------------------------------------------------------\u001b[0m",
      "\u001b[0;31mModuleNotFoundError\u001b[0m                       Traceback (most recent call last)",
      "\u001b[0;32m<ipython-input-28-885e91f9d0b1>\u001b[0m in \u001b[0;36m<module>\u001b[0;34m()\u001b[0m\n\u001b[0;32m----> 1\u001b[0;31m \u001b[0;32mimport\u001b[0m \u001b[0mols\u001b[0m\u001b[0;34m\u001b[0m\u001b[0m\n\u001b[0m\u001b[1;32m      2\u001b[0m educ_model = ols.ols(y_educ,[x_papres, x_paeduc, x_maeduc, x_black, x_male], 'Highest year of education', \n\u001b[1;32m      3\u001b[0m                      ['father occupational prestige', 'father education', 'mother education', 'black', 'male'])\n",
      "\u001b[0;31mModuleNotFoundError\u001b[0m: No module named 'ols'"
     ]
    }
   ],
   "source": [
    "import \n",
    "import ols\n",
    "educ_model = ols.ols(y_educ,[x_papres, x_paeduc, x_maeduc, x_black, x_male], 'Highest year of education', \n",
    "                     ['father occupational prestige', 'father education', 'mother education', 'black', 'male'])"
   ]
  },
  {
   "cell_type": "code",
   "execution_count": 30,
   "metadata": {},
   "outputs": [
    {
     "ename": "ModuleNotFoundError",
     "evalue": "No module named 'scipy.ols'",
     "output_type": "error",
     "traceback": [
      "\u001b[0;31m---------------------------------------------------------------------------\u001b[0m",
      "\u001b[0;31mModuleNotFoundError\u001b[0m                       Traceback (most recent call last)",
      "\u001b[0;32m<ipython-input-30-24bd10913521>\u001b[0m in \u001b[0;36m<module>\u001b[0;34m()\u001b[0m\n\u001b[0;32m----> 1\u001b[0;31m \u001b[0;32mimport\u001b[0m \u001b[0mscipy\u001b[0m\u001b[0;34m.\u001b[0m\u001b[0mols\u001b[0m\u001b[0;34m\u001b[0m\u001b[0m\n\u001b[0m",
      "\u001b[0;31mModuleNotFoundError\u001b[0m: No module named 'scipy.ols'"
     ]
    }
   ],
   "source": [
    "import .ols"
   ]
  },
  {
   "cell_type": "code",
   "execution_count": 47,
   "metadata": {},
   "outputs": [],
   "source": [
    "from autodiff.dual.dual import Dual\n",
    "import inspect\n",
    "\n",
    "class AutoDiff:\n",
    "    def __init__(self, fn, ndim=1, multivar_list=0):\n",
    "        \"\"\"\n",
    "        fn : function, the function of which we want to calculate the derivative\n",
    "        ndim : float, the number of dimensions of the function\n",
    "        l : the number of parameters in the function\n",
    "            (e.g. in lambda x, y: x**2 + y**2) it would be x,y (so l = 2)\n",
    "        \"\"\"\n",
    "        self.fn = fn\n",
    "        self.ndim = ndim\n",
    "        sig = inspect.signature(self.fn)\n",
    "        self.l = len(list(sig.parameters))\n",
    "        self.multivar_list = multivar_list\n",
    "\n",
    "    def get_der(self, *args):\n",
    "        \"\"\" Returns derivatives of the function evaluated at values given.\n",
    "\n",
    "        INPUTS\n",
    "        =======\n",
    "        val : single number, a list of numbers, or a list of lists\n",
    "\n",
    "        RETURNS\n",
    "        =======\n",
    "        Derivates in the same shape given\n",
    "\n",
    "        EXAMPLE\n",
    "        =======\n",
    "        >>> a = AutoDiff(lambda x,y: 5*x + 4*y)\n",
    "        >>> a.get_der([[6.7, 4],[2,3],[4.5,6]])\n",
    "        [[5, 4], [5, 4], [5, 4]]\n",
    "        \"\"\"\n",
    "        #self.l = len(list(args))\n",
    "        #val = list(args)\n",
    "        \n",
    "        ders = []\n",
    "        if self.ndim >1:\n",
    "            for i in range(self.ndim):\n",
    "                def fxn(*args):\n",
    "                    return self.fn(*args)[i]\n",
    "                a = AutoDiff(fxn,ndim=1)\n",
    "                a.l=self.l\n",
    "                ders.append(a.get_der(val))\n",
    "            return ders\n",
    "        else:\n",
    "            if self.l >= 2 or self.multivar_list==1:\n",
    "    #add list of variables, evaluated at different functions\n",
    "                #for list of lists, each list evaluated at different variables\n",
    "                if any(isinstance(el, list) for el in val):\n",
    "                    list_der = []\n",
    "                    for p in val:\n",
    "                        list_der.append(self.get_der(p))\n",
    "                    return list_der\n",
    "                elif self.l != len(val):\n",
    "                    raise Exception('Function requires {} values that correspond to the multiple variables'.format(self.l))\n",
    "                else:\n",
    "                    #for a list of numbers, evaluated at different variables.\n",
    "                    for i in range(self.l):\n",
    "                        new_val = val.copy()\n",
    "                        new_val[i] = Dual(new_val[i])\n",
    "                        v = self.fn(*new_val)\n",
    "                        #Check if variable is in the function. (E.g., function paramaters are x, y and function is x.)\n",
    "                        if type(v) is Dual:\n",
    "                            ders.append(self.fn(*new_val).der)\n",
    "                        else:\n",
    "                            ders.append(0)\n",
    "                    return ders\n",
    "            #for a list of variables, evaluated in a single function.\n",
    "            #if self.multivar_list = 1\n",
    "                \n",
    "            \n",
    "            #for a list of numbers, evaluated at a single variable.\n",
    "            if (isinstance(val,list)):\n",
    "                for v in val:\n",
    "                    a = Dual(v)\n",
    "                    ders.append(self.fn(a).der)\n",
    "                return ders\n",
    "            else:\n",
    "                a = Dual(val)\n",
    "                return self.fn(a).der"
   ]
  },
  {
   "cell_type": "code",
   "execution_count": 51,
   "metadata": {},
   "outputs": [
    {
     "ename": "Exception",
     "evalue": "Function requires 1 values that correspond to the multiple variables",
     "output_type": "error",
     "traceback": [
      "\u001b[0;31m---------------------------------------------------------------------------\u001b[0m",
      "\u001b[0;31mException\u001b[0m                                 Traceback (most recent call last)",
      "\u001b[0;32m<ipython-input-51-20f8b6270f0c>\u001b[0m in \u001b[0;36m<module>\u001b[0;34m()\u001b[0m\n\u001b[1;32m      9\u001b[0m \u001b[0mmylist\u001b[0m \u001b[0;34m=\u001b[0m \u001b[0;34m[\u001b[0m\u001b[0;36m3\u001b[0m\u001b[0;34m,\u001b[0m\u001b[0;36m2\u001b[0m\u001b[0;34m,\u001b[0m\u001b[0;36m1\u001b[0m\u001b[0;34m]\u001b[0m\u001b[0;34m\u001b[0m\u001b[0m\n\u001b[1;32m     10\u001b[0m \u001b[0mad_my\u001b[0m \u001b[0;34m=\u001b[0m \u001b[0mAD\u001b[0m\u001b[0;34m(\u001b[0m\u001b[0mmy_fn\u001b[0m\u001b[0;34m,\u001b[0m \u001b[0mmultivar_list\u001b[0m\u001b[0;34m=\u001b[0m\u001b[0;36m1\u001b[0m\u001b[0;34m)\u001b[0m\u001b[0;34m\u001b[0m\u001b[0m\n\u001b[0;32m---> 11\u001b[0;31m \u001b[0mad_my\u001b[0m\u001b[0;34m.\u001b[0m\u001b[0mget_der\u001b[0m\u001b[0;34m(\u001b[0m\u001b[0mmylist\u001b[0m\u001b[0;34m)\u001b[0m\u001b[0;34m\u001b[0m\u001b[0m\n\u001b[0m",
      "\u001b[0;32m<ipython-input-47-77bfecd64f40>\u001b[0m in \u001b[0;36mget_der\u001b[0;34m(self, val)\u001b[0m\n\u001b[1;32m     52\u001b[0m                     \u001b[0;32mreturn\u001b[0m \u001b[0mlist_der\u001b[0m\u001b[0;34m\u001b[0m\u001b[0m\n\u001b[1;32m     53\u001b[0m                 \u001b[0;32melif\u001b[0m \u001b[0mself\u001b[0m\u001b[0;34m.\u001b[0m\u001b[0ml\u001b[0m \u001b[0;34m!=\u001b[0m \u001b[0mlen\u001b[0m\u001b[0;34m(\u001b[0m\u001b[0mval\u001b[0m\u001b[0;34m)\u001b[0m\u001b[0;34m:\u001b[0m\u001b[0;34m\u001b[0m\u001b[0m\n\u001b[0;32m---> 54\u001b[0;31m                     \u001b[0;32mraise\u001b[0m \u001b[0mException\u001b[0m\u001b[0;34m(\u001b[0m\u001b[0;34m'Function requires {} values that correspond to the multiple variables'\u001b[0m\u001b[0;34m.\u001b[0m\u001b[0mformat\u001b[0m\u001b[0;34m(\u001b[0m\u001b[0mself\u001b[0m\u001b[0;34m.\u001b[0m\u001b[0ml\u001b[0m\u001b[0;34m)\u001b[0m\u001b[0;34m)\u001b[0m\u001b[0;34m\u001b[0m\u001b[0m\n\u001b[0m\u001b[1;32m     55\u001b[0m                 \u001b[0;32melse\u001b[0m\u001b[0;34m:\u001b[0m\u001b[0;34m\u001b[0m\u001b[0m\n\u001b[1;32m     56\u001b[0m                     \u001b[0;31m#for a list of numbers, evaluated at different variables.\u001b[0m\u001b[0;34m\u001b[0m\u001b[0;34m\u001b[0m\u001b[0m\n",
      "\u001b[0;31mException\u001b[0m: Function requires 1 values that correspond to the multiple variables"
     ]
    }
   ],
   "source": [
    "AD = AutoDiff\n",
    "\n",
    "def my_fn(xlist):\n",
    "    val = 0\n",
    "    for x in xlist:\n",
    "        val += x**2\n",
    "    return val\n",
    "\n",
    "mylist = [3,2,1]\n",
    "ad_my = AD(my_fn, multivar_list=1)\n",
    "ad_my.get_der(mylist)"
   ]
  },
  {
   "cell_type": "code",
   "execution_count": 40,
   "metadata": {},
   "outputs": [
    {
     "data": {
      "text/plain": [
       "1"
      ]
     },
     "execution_count": 40,
     "metadata": {},
     "output_type": "execute_result"
    }
   ],
   "source": [
    "signatur = inspect.signature(my_fn)\n",
    "len(list(signatur.parameters))"
   ]
  },
  {
   "cell_type": "code",
   "execution_count": null,
   "metadata": {
    "collapsed": true
   },
   "outputs": [],
   "source": [
    "sig = inspect.signature(self.fn)\n",
    "        self.l = len(list(sig.parameters))"
   ]
  },
  {
   "cell_type": "code",
   "execution_count": 53,
   "metadata": {},
   "outputs": [
    {
     "data": {
      "text/plain": [
       "[6, 4, 2]"
      ]
     },
     "execution_count": 53,
     "metadata": {},
     "output_type": "execute_result"
    }
   ],
   "source": [
    "def my_fn(xlist):\n",
    "    return xlist**2\n",
    "\n",
    "mylist = [3,2,1]\n",
    "ad_my = AD(my_fn)\n",
    "ad_my.get_der(mylist)"
   ]
  },
  {
   "cell_type": "code",
   "execution_count": 54,
   "metadata": {},
   "outputs": [
    {
     "data": {
      "text/plain": [
       "[6, 4, 2]"
      ]
     },
     "execution_count": 54,
     "metadata": {},
     "output_type": "execute_result"
    }
   ],
   "source": [
    "def my_fxn(*args):\n",
    "    tot = 0\n",
    "    for a in args:\n",
    "        tot += a**2\n",
    "    return tot\n",
    "\n",
    "mylist = [3,2,1]\n",
    "ad_my = AD(my_fxn)\n",
    "ad_my.get_der(mylist)"
   ]
  },
  {
   "cell_type": "code",
   "execution_count": 91,
   "metadata": {},
   "outputs": [],
   "source": [
    "def sum(xs):\n",
    "    cur_val = 0\n",
    "    cur_der = 0\n",
    "    is_dual = False\n",
    "    for x in xs:\n",
    "        if (isinstance(x,Dual)):\n",
    "            is_dual = True\n",
    "            cur_der += x.der\n",
    "            cur_val += x.val\n",
    "        else:\n",
    "            cur_val += x\n",
    "    if is_dual:\n",
    "        return Dual(cur_val,cur_der)\n",
    "    else:\n",
    "        return cur_val"
   ]
  },
  {
   "cell_type": "code",
   "execution_count": 98,
   "metadata": {},
   "outputs": [
    {
     "name": "stdout",
     "output_type": "stream",
     "text": [
      "val:<autodiff.dual.dual.Dual object at 0x1a1c10fbe0>\n",
      "val:<autodiff.dual.dual.Dual object at 0x1a1c10f8d0>\n",
      "val:<autodiff.dual.dual.Dual object at 0x1a1c10f9e8>\n",
      "val:<autodiff.dual.dual.Dual object at 0x1a1c10f4a8>\n",
      "val:<autodiff.dual.dual.Dual object at 0x1a1c10f390>\n",
      "val:<autodiff.dual.dual.Dual object at 0x1a1c10fc50>\n",
      "val:<autodiff.dual.dual.Dual object at 0x1a1c10fcf8>\n",
      "val:<autodiff.dual.dual.Dual object at 0x1a1c10fdd8>\n",
      "val:<autodiff.dual.dual.Dual object at 0x1a1c10fdd8>\n",
      "val:<autodiff.dual.dual.Dual object at 0x1a1c10fbe0>\n",
      "val:<autodiff.dual.dual.Dual object at 0x1a1c10fb70>\n",
      "val:<autodiff.dual.dual.Dual object at 0x1a1c10fe48>\n",
      "val:<autodiff.dual.dual.Dual object at 0x1a1c10feb8>\n",
      "val:<autodiff.dual.dual.Dual object at 0x1a1c10ff98>\n",
      "val:<autodiff.dual.dual.Dual object at 0x1a1c10f080>\n",
      "val:<autodiff.dual.dual.Dual object at 0x1a1c10f240>\n",
      "val:<autodiff.dual.dual.Dual object at 0x1a1c10f7b8>\n",
      "val:<autodiff.dual.dual.Dual object at 0x1a1c10f940>\n",
      "val:<autodiff.dual.dual.Dual object at 0x1a1c10f2e8>\n",
      "val:<autodiff.dual.dual.Dual object at 0x1a1c10fcc0>\n",
      "val:<autodiff.dual.dual.Dual object at 0x1a1c10fc50>\n",
      "val:<autodiff.dual.dual.Dual object at 0x1a1c10ff28>\n",
      "val:<autodiff.dual.dual.Dual object at 0x1a1c10f630>\n",
      "val:<autodiff.dual.dual.Dual object at 0x1a1c10f1d0>\n",
      "val:<autodiff.dual.dual.Dual object at 0x1a1cd701d0>\n",
      "val:<autodiff.dual.dual.Dual object at 0x1a1cd70358>\n",
      "val:<autodiff.dual.dual.Dual object at 0x1a1cd703c8>\n",
      "val:<autodiff.dual.dual.Dual object at 0x1a1cd704a8>\n",
      "val:<autodiff.dual.dual.Dual object at 0x1a1cd70518>\n",
      "val:<autodiff.dual.dual.Dual object at 0x1a1cd705f8>\n",
      "val:<autodiff.dual.dual.Dual object at 0x1a1cd70668>\n",
      "val:<autodiff.dual.dual.Dual object at 0x1a1cd70748>\n",
      "val:<autodiff.dual.dual.Dual object at 0x1a1cd707b8>\n",
      "val:<autodiff.dual.dual.Dual object at 0x1a1cd70898>\n",
      "val:<autodiff.dual.dual.Dual object at 0x1a1cd70908>\n",
      "val:<autodiff.dual.dual.Dual object at 0x1a1cd709e8>\n"
     ]
    },
    {
     "data": {
      "text/plain": [
       "[-120.0, -120.0]"
      ]
     },
     "execution_count": 98,
     "metadata": {},
     "output_type": "execute_result"
    }
   ],
   "source": [
    "import autodiff.admath.admath as admath\n",
    "def mse_loss_fn(X,Y):\n",
    "    def func(*args):\n",
    "        my_l = []\n",
    "        for x in X:\n",
    "            for y in Y:\n",
    "                val = 0\n",
    "                for x_i in x:\n",
    "                    for w in args:\n",
    "                        val += x_i*w\n",
    "                        print('val:{}'.format(val))\n",
    "                    my_l.append((y-val)**2)\n",
    "        return sum(my_l)/len(Y)\n",
    "    return func\n",
    "\n",
    "X = [[1,4],[1,2],[1,3]]\n",
    "y = [2,4,6]\n",
    "f1 = mse_loss_fn(X, y)\n",
    "fn = AD(f1)\n",
    "fn.get_der([0,0])"
   ]
  },
  {
   "cell_type": "code",
   "execution_count": 73,
   "metadata": {},
   "outputs": [
    {
     "data": {
      "text/plain": [
       "[[1, 1], [1, 1]]"
      ]
     },
     "execution_count": 73,
     "metadata": {},
     "output_type": "execute_result"
    }
   ],
   "source": [
    "def mse(X,y):\n",
    "    def y_pred(*args): #where args are betas\n",
    "        val = []\n",
    "        for x, beta in zip(X, args):\n",
    "            val += x*beta\n",
    "        return val\n",
    "    return y_pred\n",
    "\n",
    "X = [[1,1],[1,2],[1,3]]\n",
    "y = [2,4,6]\n",
    "f1 = mse(X, y)\n",
    "fn = AD(f1)\n",
    "fn.get_der([0,0])"
   ]
  },
  {
   "cell_type": "code",
   "execution_count": 81,
   "metadata": {},
   "outputs": [
    {
     "data": {
      "text/plain": [
       "[[1, 1], [1, 1]]"
      ]
     },
     "execution_count": 81,
     "metadata": {},
     "output_type": "execute_result"
    }
   ],
   "source": [
    "fm = AD(mse(X,y))\n",
    "fm.get_der([40,22])"
   ]
  },
  {
   "cell_type": "code",
   "execution_count": null,
   "metadata": {
    "collapsed": true
   },
   "outputs": [],
   "source": []
  }
 ],
 "metadata": {
  "kernelspec": {
   "display_name": "Python 3",
   "language": "python",
   "name": "python3"
  },
  "language_info": {
   "codemirror_mode": {
    "name": "ipython",
    "version": 3
   },
   "file_extension": ".py",
   "mimetype": "text/x-python",
   "name": "python",
   "nbconvert_exporter": "python",
   "pygments_lexer": "ipython3",
   "version": "3.6.3"
  }
 },
 "nbformat": 4,
 "nbformat_minor": 2
}
