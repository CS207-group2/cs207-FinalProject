{
 "cells": [
  {
   "cell_type": "code",
   "execution_count": 1,
   "metadata": {},
   "outputs": [],
   "source": [
    "from autodiff.interface.interface import AutoDiff as AD\n",
    "import autodiff.admath.admath as math"
   ]
  },
  {
   "cell_type": "code",
   "execution_count": 2,
   "metadata": {},
   "outputs": [
    {
     "name": "stdout",
     "output_type": "stream",
     "text": [
      "6\n",
      "9\n"
     ]
    }
   ],
   "source": [
    "def square_fn(x):\n",
    "    return x ** 2\n",
    "\n",
    "ad_square = AD(square_fn)\n",
    "print(ad_square.get_der(3))\n",
    "print(ad_square.get_val(3))"
   ]
  },
  {
   "cell_type": "markdown",
   "metadata": {},
   "source": [
    "Correct!"
   ]
  },
  {
   "cell_type": "code",
   "execution_count": 3,
   "metadata": {},
   "outputs": [
    {
     "name": "stdout",
     "output_type": "stream",
     "text": [
      "[2, 4]\n",
      "[1, 4]\n"
     ]
    }
   ],
   "source": [
    "print(ad_square.get_der([1,2]))\n",
    "print(ad_square.get_val([1,2]))"
   ]
  },
  {
   "cell_type": "markdown",
   "metadata": {},
   "source": [
    "Correct!"
   ]
  },
  {
   "cell_type": "code",
   "execution_count": 4,
   "metadata": {},
   "outputs": [
    {
     "name": "stdout",
     "output_type": "stream",
     "text": [
      "1.0\n",
      "0.0\n"
     ]
    }
   ],
   "source": [
    "def sin_fn(x):\n",
    "    return math.sin(x)\n",
    "\n",
    "ad_sin = AD(sin_fn)\n",
    "print(ad_sin.get_der(0))\n",
    "print(ad_sin.get_val(0))"
   ]
  },
  {
   "cell_type": "markdown",
   "metadata": {},
   "source": [
    "Correct!"
   ]
  },
  {
   "cell_type": "code",
   "execution_count": 5,
   "metadata": {},
   "outputs": [
    {
     "name": "stdout",
     "output_type": "stream",
     "text": [
      "[[16, 16], [8, 4]]\n",
      "[1, 16, 9]\n"
     ]
    }
   ],
   "source": [
    "def mul_fn(x, y):\n",
    "    return x**2 * y**2\n",
    "\n",
    "ad_mul = AD(mul_fn)\n",
    "print(ad_mul.get_der([[2,2], [1,2]]))\n",
    "print(ad_mul.get_val([[1,1], [2,2], [3,1]]))"
   ]
  },
  {
   "cell_type": "markdown",
   "metadata": {},
   "source": [
    "Correct!"
   ]
  },
  {
   "cell_type": "code",
   "execution_count": 6,
   "metadata": {},
   "outputs": [
    {
     "name": "stdout",
     "output_type": "stream",
     "text": [
      "[[8, 4], [1, 1], [2, 0]]\n",
      "[[[8, 4], [1, 1], [2, 0]], [[8, 4], [1, 1], [2, 0]], [[8, 4], [1, 1], [2, 0]]]\n",
      "[[[8, 4], [1, 1], [2, 0]], [[16, 16], [1, 1], [2, 0]], [[0, 0], [1, 1], [2, 0]], [[16, 16], [1, 1], [2, 0]]]\n",
      "[4, 3, 2]\n",
      "[[4, 3, 2], [4, 3, 2], [4, 3, 2], [4, 3, 2], [4, 3, 2]]\n",
      "[[4, 3, 2], [16, 4, 4], [4, 3, 2], [0, 1, 2], [16, 4, 4]]\n"
     ]
    }
   ],
   "source": [
    "def mul_array(x, y):\n",
    "    return [x**2 * y**2, x + y, 2*x]\n",
    "\n",
    "ad_mul_array = AD(mul_array, ndim=3)\n",
    "print(ad_mul_array.get_der([1,2]))\n",
    "print(ad_mul_array.get_der([[1,2],[1,2],[1,2]]))\n",
    "print(ad_mul_array.get_der([[1,2],[2,2],[1,0],[2,2]]))\n",
    "print(ad_mul_array.get_val([1,2]))\n",
    "print(ad_mul_array.get_val([[1,2],[1,2],[1,2],[1,2],[1,2]]))\n",
    "print(ad_mul_array.get_val([[1,2],[2,2],[1,2],[1,0],[2,2]]))"
   ]
  },
  {
   "cell_type": "markdown",
   "metadata": {},
   "source": [
    "Correct!"
   ]
  },
  {
   "cell_type": "code",
   "execution_count": 12,
   "metadata": {},
   "outputs": [
    {
     "name": "stdout",
     "output_type": "stream",
     "text": [
      "x**x val:  4 x**x der:  6.772588722239782\n",
      "power val:  4 power der:  6.772588722239782\n"
     ]
    }
   ],
   "source": [
    "def fun_ad(x):\n",
    "    return x**x\n",
    "\n",
    "def fun_power(x):\n",
    "    return math.power(x,x)\n",
    "\n",
    "fun_ad_AD = AD(fun_ad)\n",
    "fun_power_AD = AD(fun_power)\n",
    "\n",
    "print('x**x val: ', fun_ad_AD.get_val(2), \\\n",
    "      'x**x der: ', fun_ad_AD.get_der(2))\n",
    "print('power val: ', fun_power_AD.get_val(2), \\\n",
    "      'power der: ', fun_power_AD.get_der(2))"
   ]
  },
  {
   "cell_type": "code",
   "execution_count": null,
   "metadata": {},
   "outputs": [],
   "source": []
  }
 ],
 "metadata": {
  "kernelspec": {
   "display_name": "Python 3",
   "language": "python",
   "name": "python3"
  },
  "language_info": {
   "codemirror_mode": {
    "name": "ipython",
    "version": 3
   },
   "file_extension": ".py",
   "mimetype": "text/x-python",
   "name": "python",
   "nbconvert_exporter": "python",
   "pygments_lexer": "ipython3",
   "version": "3.7.0"
  }
 },
 "nbformat": 4,
 "nbformat_minor": 2
}
